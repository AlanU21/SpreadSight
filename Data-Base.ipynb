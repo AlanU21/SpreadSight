{
 "cells": [
  {
   "cell_type": "code",
   "execution_count": 1,
   "id": "a8793188",
   "metadata": {},
   "outputs": [],
   "source": [
    "import pandas as pd"
   ]
  },
  {
   "cell_type": "code",
   "execution_count": 2,
   "id": "bf63f060",
   "metadata": {},
   "outputs": [],
   "source": [
    "df = pd.read_csv('CLEANED_CDX.csv')"
   ]
  },
  {
   "cell_type": "code",
   "execution_count": 3,
   "id": "375c1d42",
   "metadata": {},
   "outputs": [],
   "source": [
    "df=df[~df.isnull().any(axis=1)]"
   ]
  },
  {
   "cell_type": "code",
   "execution_count": 4,
   "id": "30ac2464",
   "metadata": {},
   "outputs": [
    {
     "data": {
      "text/plain": [
       "Date                                           False\n",
       "SPX Index                                      False\n",
       "VIX Index  (L1)                                False\n",
       "Freddie Mac 30 Year Mortgage Rate              False\n",
       "U.S. 5-year Treasury constant maturity rate    False\n",
       "CDX HY Spread                                  False\n",
       "CDX IG Spread                                  False\n",
       "dtype: bool"
      ]
     },
     "execution_count": 4,
     "metadata": {},
     "output_type": "execute_result"
    }
   ],
   "source": [
    "df.isnull().any()"
   ]
  },
  {
   "cell_type": "code",
   "execution_count": 5,
   "id": "b052b295",
   "metadata": {},
   "outputs": [
    {
     "data": {
      "text/plain": [
       "Date                                           0\n",
       "SPX Index                                      0\n",
       "VIX Index  (L1)                                0\n",
       "Freddie Mac 30 Year Mortgage Rate              0\n",
       "U.S. 5-year Treasury constant maturity rate    0\n",
       "CDX HY Spread                                  0\n",
       "CDX IG Spread                                  0\n",
       "dtype: int64"
      ]
     },
     "execution_count": 5,
     "metadata": {},
     "output_type": "execute_result"
    }
   ],
   "source": [
    "df.isnull().sum()"
   ]
  },
  {
   "cell_type": "code",
   "execution_count": 6,
   "id": "ef990714",
   "metadata": {},
   "outputs": [
    {
     "data": {
      "text/plain": [
       "(2861, 7)"
      ]
     },
     "execution_count": 6,
     "metadata": {},
     "output_type": "execute_result"
    }
   ],
   "source": [
    "df.shape"
   ]
  },
  {
   "cell_type": "code",
   "execution_count": 7,
   "id": "eaddaa0a",
   "metadata": {},
   "outputs": [],
   "source": [
    "df=df[df['Date']>'08-08-2012']"
   ]
  },
  {
   "cell_type": "code",
   "execution_count": 8,
   "id": "14284b83",
   "metadata": {},
   "outputs": [
    {
     "name": "stdout",
     "output_type": "stream",
     "text": [
      "Int64Index([   0,    1,    2,    3,    4,    5,    6,    7,    8,    9,\n",
      "            ...\n",
      "            2867, 2868, 2869, 2870, 2871, 2872, 2873, 2874, 2875, 2876],\n",
      "           dtype='int64', length=2861)\n"
     ]
    }
   ],
   "source": [
    "print(df.index)"
   ]
  },
  {
   "cell_type": "code",
   "execution_count": 9,
   "id": "129a2bf5",
   "metadata": {},
   "outputs": [
    {
     "data": {
      "text/plain": [
       "Index(['Date', 'SPX Index ', 'VIX Index  (L1)',\n",
       "       'Freddie Mac 30 Year Mortgage Rate',\n",
       "       'U.S. 5-year Treasury constant maturity rate', 'CDX HY Spread',\n",
       "       'CDX IG Spread'],\n",
       "      dtype='object')"
      ]
     },
     "execution_count": 9,
     "metadata": {},
     "output_type": "execute_result"
    }
   ],
   "source": [
    "df.columns"
   ]
  },
  {
   "cell_type": "code",
   "execution_count": 10,
   "id": "e7b976ac",
   "metadata": {},
   "outputs": [],
   "source": [
    "df.to_csv('Base.csv',index=False)"
   ]
  },
  {
   "cell_type": "code",
   "execution_count": null,
   "id": "b788aa58",
   "metadata": {},
   "outputs": [],
   "source": []
  }
 ],
 "metadata": {
  "kernelspec": {
   "display_name": "Python 3 (ipykernel)",
   "language": "python",
   "name": "python3"
  },
  "language_info": {
   "codemirror_mode": {
    "name": "ipython",
    "version": 3
   },
   "file_extension": ".py",
   "mimetype": "text/x-python",
   "name": "python",
   "nbconvert_exporter": "python",
   "pygments_lexer": "ipython3",
   "version": "3.9.13"
  }
 },
 "nbformat": 4,
 "nbformat_minor": 5
}
