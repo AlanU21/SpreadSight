{
 "cells": [
  {
   "cell_type": "code",
   "execution_count": 13,
   "id": "816f8e8b",
   "metadata": {},
   "outputs": [],
   "source": [
    "import pandas as pd\n",
    "import os\n",
    "import numpy as np\n",
    "import statsmodels.api as sm"
   ]
  },
  {
   "cell_type": "code",
   "execution_count": 14,
   "id": "8711ad5d",
   "metadata": {},
   "outputs": [],
   "source": [
    "df=pd.read_csv('Base.csv')"
   ]
  },
  {
   "cell_type": "code",
   "execution_count": 25,
   "id": "8226ab46",
   "metadata": {},
   "outputs": [
    {
     "name": "stdout",
     "output_type": "stream",
     "text": [
      "HP filter applied to all numeric features. Results, including dates, saved to hp_filtered_data.csv\n"
     ]
    }
   ],
   "source": [
    "if 'Date' in df.columns:\n",
    "    keep_date = True\n",
    "    dates = df['Date']  # Preserve date column\n",
    "else:\n",
    "    keep_date = False\n",
    "\n",
    "# Select only numeric columns for HP filter application\n",
    "numeric_columns = df.select_dtypes(include=['number']).columns\n",
    "\n",
    "# Apply the HP filter to each numeric column and store the results\n",
    "lambda_hp = 1600  # Adjust this value as needed based on your data's frequency\n",
    "hp_results = pd.DataFrame()\n",
    "\n",
    "for column in numeric_columns:\n",
    "    cycle, trend = sm.tsa.filters.hpfilter(df[column], lamb=lambda_hp)\n",
    "    hp_results[f'{column}_trend'] = trend\n",
    "    hp_results[f'{column}_cycle'] = cycle\n",
    "\n",
    "# If you preserved dates, add them back to the results DataFrame\n",
    "if keep_date:\n",
    "    hp_results['Date'] = dates\n",
    "\n",
    "# Reorder columns to put 'date' first if it was preserved\n",
    "if 'Date' in hp_results.columns:\n",
    "    cols = ['Date'] + [col for col in hp_results.columns if col != 'Date']\n",
    "    hp_results = hp_results[cols]\n",
    "\n",
    "# Save the results to a new CSV file\n",
    "hp_results.to_csv('hp_filtered_data.csv', index=False)  # Use index=False to exclude DataFrame index if 'date' is a column\n",
    "\n",
    "print('HP filter applied to all numeric features. Results, including dates, saved to hp_filtered_data.csv')"
   ]
  }
 ],
 "metadata": {
  "kernelspec": {
   "display_name": "Python 3 (ipykernel)",
   "language": "python",
   "name": "python3"
  },
  "language_info": {
   "codemirror_mode": {
    "name": "ipython",
    "version": 3
   },
   "file_extension": ".py",
   "mimetype": "text/x-python",
   "name": "python",
   "nbconvert_exporter": "python",
   "pygments_lexer": "ipython3",
   "version": "3.9.13"
  }
 },
 "nbformat": 4,
 "nbformat_minor": 5
}
