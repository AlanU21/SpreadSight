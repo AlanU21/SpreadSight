{
 "cells": [
  {
   "cell_type": "markdown",
   "metadata": {},
   "source": [
    "*This Notebook will using Interpolation to Impute Daily Samples based on Quarterly and Monthly Indexes*"
   ]
  },
  {
   "cell_type": "code",
   "execution_count": 68,
   "metadata": {},
   "outputs": [
    {
     "data": {
      "text/plain": [
       "Index(['Date', 'Dow Jones Industrial Average', 'Nasdaq 100 Index', 'CPI Index',\n",
       "       'Corporate Lending Default Rate on Large Loans to Public Nonfinancial Corporations Last  3 Months',\n",
       "       'Corporate Lending Default Rate on Medium Loans to Public Nonfinancial Corporations Last  3 Months',\n",
       "       'US Unemployment Rate', 'GDP Index',\n",
       "       'Bloomberg US Corporate Total Return Value',\n",
       "       'Morgan Stanley Market Sentiment Index'],\n",
       "      dtype='object')"
      ]
     },
     "execution_count": 68,
     "metadata": {},
     "output_type": "execute_result"
    }
   ],
   "source": [
    "import pandas as pd\n",
    "\n",
    "df = pd.read_csv('Additional.csv')\n",
    "\n",
    "df.columns"
   ]
  },
  {
   "cell_type": "code",
   "execution_count": 69,
   "metadata": {},
   "outputs": [
    {
     "name": "stderr",
     "output_type": "stream",
     "text": [
      "C:\\Users\\colby\\AppData\\Local\\Temp\\ipykernel_13836\\3387591869.py:1: FutureWarning: DataFrame.interpolate with object dtype is deprecated and will raise in a future version. Call obj.infer_objects(copy=False) before interpolating instead.\n",
      "  df = df.interpolate(method='linear').set_index('Date')\n"
     ]
    }
   ],
   "source": [
    "df = df.interpolate(method='linear').set_index('Date')"
   ]
  },
  {
   "cell_type": "code",
   "execution_count": 70,
   "metadata": {},
   "outputs": [],
   "source": [
    "df_current = pd.read_csv('Imputed_Cleaned_CDX.csv').set_index('Date')"
   ]
  },
  {
   "cell_type": "markdown",
   "metadata": {},
   "source": [
    "*Filter out dates not in current dataset*"
   ]
  },
  {
   "cell_type": "code",
   "execution_count": 71,
   "metadata": {},
   "outputs": [
    {
     "data": {
      "text/plain": [
       "(2877, 9)"
      ]
     },
     "execution_count": 71,
     "metadata": {},
     "output_type": "execute_result"
    }
   ],
   "source": [
    "filtered_df = df.loc[df.index.isin(df_current.index)]\n",
    "\n",
    "filtered_df.shape"
   ]
  },
  {
   "cell_type": "code",
   "execution_count": 72,
   "metadata": {},
   "outputs": [
    {
     "data": {
      "text/html": [
       "<div>\n",
       "<style scoped>\n",
       "    .dataframe tbody tr th:only-of-type {\n",
       "        vertical-align: middle;\n",
       "    }\n",
       "\n",
       "    .dataframe tbody tr th {\n",
       "        vertical-align: top;\n",
       "    }\n",
       "\n",
       "    .dataframe thead th {\n",
       "        text-align: right;\n",
       "    }\n",
       "</style>\n",
       "<table border=\"1\" class=\"dataframe\">\n",
       "  <thead>\n",
       "    <tr style=\"text-align: right;\">\n",
       "      <th></th>\n",
       "      <th>Dow Jones Industrial Average</th>\n",
       "      <th>Nasdaq 100 Index</th>\n",
       "      <th>CPI Index</th>\n",
       "      <th>Corporate Lending Default Rate on Large Loans to Public Nonfinancial Corporations Last  3 Months</th>\n",
       "      <th>Corporate Lending Default Rate on Medium Loans to Public Nonfinancial Corporations Last  3 Months</th>\n",
       "      <th>US Unemployment Rate</th>\n",
       "      <th>GDP Index</th>\n",
       "      <th>Bloomberg US Corporate Total Return Value</th>\n",
       "      <th>Morgan Stanley Market Sentiment Index</th>\n",
       "    </tr>\n",
       "  </thead>\n",
       "  <tbody>\n",
       "    <tr>\n",
       "      <th>count</th>\n",
       "      <td>2877.000000</td>\n",
       "      <td>2877.000000</td>\n",
       "      <td>2865.000000</td>\n",
       "      <td>2844.000000</td>\n",
       "      <td>2844.000000</td>\n",
       "      <td>2844.000000</td>\n",
       "      <td>2844.000000</td>\n",
       "      <td>2877.000000</td>\n",
       "      <td>2877.000000</td>\n",
       "    </tr>\n",
       "    <tr>\n",
       "      <th>mean</th>\n",
       "      <td>24177.969148</td>\n",
       "      <td>7925.224612</td>\n",
       "      <td>2.601409</td>\n",
       "      <td>2.439010</td>\n",
       "      <td>0.537186</td>\n",
       "      <td>5.260951</td>\n",
       "      <td>2.541617</td>\n",
       "      <td>2894.503445</td>\n",
       "      <td>0.027838</td>\n",
       "    </tr>\n",
       "    <tr>\n",
       "      <th>std</th>\n",
       "      <td>7238.573188</td>\n",
       "      <td>4280.344570</td>\n",
       "      <td>2.189856</td>\n",
       "      <td>10.426714</td>\n",
       "      <td>9.035380</td>\n",
       "      <td>1.753419</td>\n",
       "      <td>5.204087</td>\n",
       "      <td>345.836507</td>\n",
       "      <td>0.643313</td>\n",
       "    </tr>\n",
       "    <tr>\n",
       "      <th>min</th>\n",
       "      <td>12542.380000</td>\n",
       "      <td>2524.360000</td>\n",
       "      <td>-0.200000</td>\n",
       "      <td>-25.500000</td>\n",
       "      <td>-26.300000</td>\n",
       "      <td>3.500000</td>\n",
       "      <td>-28.000000</td>\n",
       "      <td>2334.880000</td>\n",
       "      <td>-2.720000</td>\n",
       "    </tr>\n",
       "    <tr>\n",
       "      <th>25%</th>\n",
       "      <td>17573.930000</td>\n",
       "      <td>4341.300000</td>\n",
       "      <td>1.320870</td>\n",
       "      <td>-0.755088</td>\n",
       "      <td>-5.995149</td>\n",
       "      <td>3.803864</td>\n",
       "      <td>1.681061</td>\n",
       "      <td>2586.050000</td>\n",
       "      <td>-0.350000</td>\n",
       "    </tr>\n",
       "    <tr>\n",
       "      <th>50%</th>\n",
       "      <td>24361.450000</td>\n",
       "      <td>6774.890000</td>\n",
       "      <td>1.879091</td>\n",
       "      <td>2.109172</td>\n",
       "      <td>1.316667</td>\n",
       "      <td>4.888182</td>\n",
       "      <td>2.498507</td>\n",
       "      <td>2836.660000</td>\n",
       "      <td>0.110000</td>\n",
       "    </tr>\n",
       "    <tr>\n",
       "      <th>75%</th>\n",
       "      <td>31060.470000</td>\n",
       "      <td>11872.540000</td>\n",
       "      <td>2.917391</td>\n",
       "      <td>10.186415</td>\n",
       "      <td>6.428030</td>\n",
       "      <td>6.196513</td>\n",
       "      <td>3.664394</td>\n",
       "      <td>3119.950000</td>\n",
       "      <td>0.490000</td>\n",
       "    </tr>\n",
       "    <tr>\n",
       "      <th>max</th>\n",
       "      <td>38797.380000</td>\n",
       "      <td>17962.400000</td>\n",
       "      <td>9.060000</td>\n",
       "      <td>30.700000</td>\n",
       "      <td>24.800000</td>\n",
       "      <td>13.000000</td>\n",
       "      <td>34.800000</td>\n",
       "      <td>3575.820000</td>\n",
       "      <td>1.540000</td>\n",
       "    </tr>\n",
       "  </tbody>\n",
       "</table>\n",
       "</div>"
      ],
      "text/plain": [
       "       Dow Jones Industrial Average  Nasdaq 100 Index    CPI Index  \\\n",
       "count                   2877.000000       2877.000000  2865.000000   \n",
       "mean                   24177.969148       7925.224612     2.601409   \n",
       "std                     7238.573188       4280.344570     2.189856   \n",
       "min                    12542.380000       2524.360000    -0.200000   \n",
       "25%                    17573.930000       4341.300000     1.320870   \n",
       "50%                    24361.450000       6774.890000     1.879091   \n",
       "75%                    31060.470000      11872.540000     2.917391   \n",
       "max                    38797.380000      17962.400000     9.060000   \n",
       "\n",
       "       Corporate Lending Default Rate on Large Loans to Public Nonfinancial Corporations Last  3 Months  \\\n",
       "count                                        2844.000000                                                  \n",
       "mean                                            2.439010                                                  \n",
       "std                                            10.426714                                                  \n",
       "min                                           -25.500000                                                  \n",
       "25%                                            -0.755088                                                  \n",
       "50%                                             2.109172                                                  \n",
       "75%                                            10.186415                                                  \n",
       "max                                            30.700000                                                  \n",
       "\n",
       "       Corporate Lending Default Rate on Medium Loans to Public Nonfinancial Corporations Last  3 Months  \\\n",
       "count                                        2844.000000                                                   \n",
       "mean                                            0.537186                                                   \n",
       "std                                             9.035380                                                   \n",
       "min                                           -26.300000                                                   \n",
       "25%                                            -5.995149                                                   \n",
       "50%                                             1.316667                                                   \n",
       "75%                                             6.428030                                                   \n",
       "max                                            24.800000                                                   \n",
       "\n",
       "       US Unemployment Rate    GDP Index  \\\n",
       "count           2844.000000  2844.000000   \n",
       "mean               5.260951     2.541617   \n",
       "std                1.753419     5.204087   \n",
       "min                3.500000   -28.000000   \n",
       "25%                3.803864     1.681061   \n",
       "50%                4.888182     2.498507   \n",
       "75%                6.196513     3.664394   \n",
       "max               13.000000    34.800000   \n",
       "\n",
       "       Bloomberg US Corporate Total Return Value  \\\n",
       "count                                2877.000000   \n",
       "mean                                 2894.503445   \n",
       "std                                   345.836507   \n",
       "min                                  2334.880000   \n",
       "25%                                  2586.050000   \n",
       "50%                                  2836.660000   \n",
       "75%                                  3119.950000   \n",
       "max                                  3575.820000   \n",
       "\n",
       "       Morgan Stanley Market Sentiment Index  \n",
       "count                            2877.000000  \n",
       "mean                                0.027838  \n",
       "std                                 0.643313  \n",
       "min                                -2.720000  \n",
       "25%                                -0.350000  \n",
       "50%                                 0.110000  \n",
       "75%                                 0.490000  \n",
       "max                                 1.540000  "
      ]
     },
     "execution_count": 72,
     "metadata": {},
     "output_type": "execute_result"
    }
   ],
   "source": [
    "filtered_df.isnull().sum()\n",
    "\n",
    "filtered_df.describe()"
   ]
  },
  {
   "cell_type": "markdown",
   "metadata": {},
   "source": [
    "*Back fill remaining empty samples most recently not imputable using interpolation*"
   ]
  },
  {
   "cell_type": "code",
   "execution_count": 73,
   "metadata": {},
   "outputs": [],
   "source": [
    "df = filtered_df.bfill()\n",
    "\n",
    "df.to_csv('Additional_to_Merge.csv')"
   ]
  }
 ],
 "metadata": {
  "kernelspec": {
   "display_name": "Python 3",
   "language": "python",
   "name": "python3"
  },
  "language_info": {
   "codemirror_mode": {
    "name": "ipython",
    "version": 3
   },
   "file_extension": ".py",
   "mimetype": "text/x-python",
   "name": "python",
   "nbconvert_exporter": "python",
   "pygments_lexer": "ipython3",
   "version": "3.10.7"
  }
 },
 "nbformat": 4,
 "nbformat_minor": 2
}
