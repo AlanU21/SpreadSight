{
 "cells": [
  {
   "cell_type": "markdown",
   "metadata": {},
   "source": [
    "*This notebook merges the current dataset with the additional features*"
   ]
  },
  {
   "cell_type": "code",
   "execution_count": 1,
   "metadata": {},
   "outputs": [],
   "source": [
    "import pandas as pd\n",
    "import warnings \n",
    "import matplotlib.pyplot as plt\n",
    "import seaborn as sns \n",
    "\n",
    "warnings.filterwarnings('ignore')\n",
    "\n",
    "df = pd.read_csv('Additional_to_Merge.csv')\n",
    "\n",
    "df_current = pd.read_csv('Imputed_Cleaned_CDX.csv')"
   ]
  },
  {
   "cell_type": "code",
   "execution_count": 2,
   "metadata": {},
   "outputs": [],
   "source": [
    "df_new = df.merge(df_current, on='Date')"
   ]
  },
  {
   "cell_type": "code",
   "execution_count": 20,
   "metadata": {},
   "outputs": [
    {
     "data": {
      "text/plain": [
       "Index(['Date', 'Dow Jones Industrial Average', 'Nasdaq 100 Index', 'CPI Index',\n",
       "       'Large Loan Corporate Default Rate',\n",
       "       'Medium Loan Corporate Default Rate', 'US Unemployment Rate',\n",
       "       'GDP Index', 'Bloomberg US Corporate Total Return Value',\n",
       "       'Morgan Stanley Market Sentiment Index', 'SPX Index ',\n",
       "       'VIX Index  (L1)', 'Freddie Mac 30 Year Mortgage Rate',\n",
       "       'U.S. 5-year Treasury constant maturity rate', 'CDX HY Spread',\n",
       "       'CDX IG Spread'],\n",
       "      dtype='object')"
      ]
     },
     "execution_count": 20,
     "metadata": {},
     "output_type": "execute_result"
    }
   ],
   "source": [
    "df_new = df_new.rename(columns={'Corporate Lending Default Rate on Large Loans to Public Nonfinancial Corporations Last  3 Months':\"Large Loan Corporate Default Rate\", \n",
    "               'Corporate Lending Default Rate on Medium Loans to Public Nonfinancial Corporations Last  3 Months':\"Medium Loan Corporate Default Rate\"})\n",
    "\n",
    "df_new.columns"
   ]
  },
  {
   "cell_type": "markdown",
   "metadata": {},
   "source": [
    "*Round interpolated columns*"
   ]
  },
  {
   "cell_type": "code",
   "execution_count": 21,
   "metadata": {},
   "outputs": [],
   "source": [
    "features = ['Large Loan Corporate Default Rate', 'Medium Loan Corporate Default Rate', 'US Unemployment Rate', 'GDP Index', 'Bloomberg US Corporate Total Return Value']\n",
    "\n",
    "df_new[features] = df_new[features].round(3)"
   ]
  },
  {
   "cell_type": "code",
   "execution_count": 22,
   "metadata": {},
   "outputs": [],
   "source": [
    "df_new.to_csv('Full-Dataset.csv', index=False)"
   ]
  }
 ],
 "metadata": {
  "kernelspec": {
   "display_name": "Python 3",
   "language": "python",
   "name": "python3"
  },
  "language_info": {
   "codemirror_mode": {
    "name": "ipython",
    "version": 3
   },
   "file_extension": ".py",
   "mimetype": "text/x-python",
   "name": "python",
   "nbconvert_exporter": "python",
   "pygments_lexer": "ipython3",
   "version": "3.10.7"
  }
 },
 "nbformat": 4,
 "nbformat_minor": 2
}
